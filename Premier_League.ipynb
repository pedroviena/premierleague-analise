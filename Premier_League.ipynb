{
  "nbformat": 4,
  "nbformat_minor": 0,
  "metadata": {
    "colab": {
      "provenance": []
    },
    "kernelspec": {
      "name": "python3",
      "display_name": "Python 3"
    },
    "language_info": {
      "name": "python"
    }
  },
  "cells": [
    {
      "cell_type": "markdown",
      "source": [
        "![Texto Alternativo](https://pm1.aminoapps.com/6142/8bdd665485e80e32de9b44257ff3998356a07297_00.jpg)\n"
      ],
      "metadata": {
        "id": "6R5HY_Gq2Vtc"
      }
    },
    {
      "cell_type": "markdown",
      "source": [
        "\n",
        "# **ANÁLISE DA PREMIER LEAGUE 2006/2007 - 2017/2018**\n",
        "Nesse projeto, vou analisar os dados da Premier League. Uma das Ligas mais importantes e de destaque no mundo. Unindo minha paixão por análise e futebol.Os dados foram adquiridos no site da Premier League e são representativos das temporadas 2006/2007 a 2017/2018."
      ],
      "metadata": {
        "id": "O9iI0ht01FBV"
      }
    },
    {
      "cell_type": "code",
      "source": [
        "import pandas as pd"
      ],
      "metadata": {
        "id": "_VQBaDYH3pAS"
      },
      "execution_count": 1,
      "outputs": []
    },
    {
      "cell_type": "code",
      "source": [
        "premierleague = pd.read_csv('stats.csv')"
      ],
      "metadata": {
        "id": "H_N1yRN43tKJ"
      },
      "execution_count": 2,
      "outputs": []
    },
    {
      "cell_type": "code",
      "source": [
        "premierleague.info()"
      ],
      "metadata": {
        "colab": {
          "base_uri": "https://localhost:8080/"
        },
        "id": "4AbdYhH8365Z",
        "outputId": "557be26e-1811-4097-b476-c2531d821e09"
      },
      "execution_count": 3,
      "outputs": [
        {
          "output_type": "stream",
          "name": "stdout",
          "text": [
            "<class 'pandas.core.frame.DataFrame'>\n",
            "RangeIndex: 240 entries, 0 to 239\n",
            "Data columns (total 42 columns):\n",
            " #   Column                Non-Null Count  Dtype  \n",
            "---  ------                --------------  -----  \n",
            " 0   team                  240 non-null    object \n",
            " 1   wins                  240 non-null    float64\n",
            " 2   losses                240 non-null    float64\n",
            " 3   goals                 240 non-null    float64\n",
            " 4   total_yel_card        240 non-null    float64\n",
            " 5   total_red_card        240 non-null    float64\n",
            " 6   total_scoring_att     240 non-null    float64\n",
            " 7   ontarget_scoring_att  240 non-null    float64\n",
            " 8   hit_woodwork          240 non-null    float64\n",
            " 9   att_hd_goal           240 non-null    float64\n",
            " 10  att_pen_goal          240 non-null    float64\n",
            " 11  att_freekick_goal     240 non-null    float64\n",
            " 12  att_ibox_goal         240 non-null    float64\n",
            " 13  att_obox_goal         240 non-null    float64\n",
            " 14  goal_fastbreak        240 non-null    float64\n",
            " 15  total_offside         240 non-null    float64\n",
            " 16  clean_sheet           240 non-null    float64\n",
            " 17  goals_conceded        240 non-null    float64\n",
            " 18  saves                 220 non-null    float64\n",
            " 19  outfielder_block      240 non-null    float64\n",
            " 20  interception          240 non-null    float64\n",
            " 21  total_tackle          240 non-null    float64\n",
            " 22  last_man_tackle       240 non-null    float64\n",
            " 23  total_clearance       240 non-null    float64\n",
            " 24  head_clearance        220 non-null    float64\n",
            " 25  own_goals             240 non-null    float64\n",
            " 26  penalty_conceded      240 non-null    float64\n",
            " 27  pen_goals_conceded    240 non-null    float64\n",
            " 28  total_pass            240 non-null    float64\n",
            " 29  total_through_ball    220 non-null    float64\n",
            " 30  total_long_balls      240 non-null    float64\n",
            " 31  backward_pass         160 non-null    float64\n",
            " 32  total_cross           240 non-null    float64\n",
            " 33  corner_taken          240 non-null    float64\n",
            " 34  touches               240 non-null    float64\n",
            " 35  big_chance_missed     160 non-null    float64\n",
            " 36  clearance_off_line    240 non-null    float64\n",
            " 37  dispossessed          220 non-null    float64\n",
            " 38  penalty_save          240 non-null    float64\n",
            " 39  total_high_claim      240 non-null    float64\n",
            " 40  punches               240 non-null    float64\n",
            " 41  season                240 non-null    object \n",
            "dtypes: float64(40), object(2)\n",
            "memory usage: 78.9+ KB\n"
          ]
        }
      ]
    },
    {
      "cell_type": "code",
      "source": [
        "premierleague.head()"
      ],
      "metadata": {
        "colab": {
          "base_uri": "https://localhost:8080/",
          "height": 342
        },
        "id": "vxZi2b8sPQhl",
        "outputId": "39a356df-569a-44e3-ff1d-c402586b9c12"
      },
      "execution_count": 4,
      "outputs": [
        {
          "output_type": "execute_result",
          "data": {
            "text/plain": [
              "                team  wins  losses  goals  total_yel_card  total_red_card  \\\n",
              "0  Manchester United  28.0     5.0   83.0            60.0             1.0   \n",
              "1            Chelsea  24.0     3.0   64.0            62.0             4.0   \n",
              "2          Liverpool  20.0    10.0   57.0            44.0             0.0   \n",
              "3            Arsenal  19.0     8.0   63.0            59.0             3.0   \n",
              "4  Tottenham Hotspur  17.0    12.0   57.0            48.0             3.0   \n",
              "\n",
              "   total_scoring_att  ontarget_scoring_att  hit_woodwork  att_hd_goal  ...  \\\n",
              "0              698.0                 256.0          21.0         12.0  ...   \n",
              "1              636.0                 216.0          14.0         16.0  ...   \n",
              "2              668.0                 214.0          15.0          8.0  ...   \n",
              "3              638.0                 226.0          19.0         10.0  ...   \n",
              "4              520.0                 184.0           6.0          5.0  ...   \n",
              "\n",
              "   total_cross  corner_taken  touches  big_chance_missed  clearance_off_line  \\\n",
              "0        918.0         258.0  25686.0                NaN                 1.0   \n",
              "1        897.0         231.0  24010.0                NaN                 2.0   \n",
              "2       1107.0         282.0  24150.0                NaN                 1.0   \n",
              "3        873.0         278.0  25592.0                NaN                 1.0   \n",
              "4        796.0         181.0  22200.0                NaN                 2.0   \n",
              "\n",
              "   dispossessed  penalty_save  total_high_claim  punches     season  \n",
              "0           NaN           2.0              37.0     25.0  2006-2007  \n",
              "1           NaN           1.0              74.0     22.0  2006-2007  \n",
              "2           NaN           0.0              51.0     27.0  2006-2007  \n",
              "3           NaN           0.0              88.0     27.0  2006-2007  \n",
              "4           NaN           0.0              51.0     24.0  2006-2007  \n",
              "\n",
              "[5 rows x 42 columns]"
            ],
            "text/html": [
              "\n",
              "  <div id=\"df-19e54f7a-4953-48d5-8aa9-f5d3b0603944\" class=\"colab-df-container\">\n",
              "    <div>\n",
              "<style scoped>\n",
              "    .dataframe tbody tr th:only-of-type {\n",
              "        vertical-align: middle;\n",
              "    }\n",
              "\n",
              "    .dataframe tbody tr th {\n",
              "        vertical-align: top;\n",
              "    }\n",
              "\n",
              "    .dataframe thead th {\n",
              "        text-align: right;\n",
              "    }\n",
              "</style>\n",
              "<table border=\"1\" class=\"dataframe\">\n",
              "  <thead>\n",
              "    <tr style=\"text-align: right;\">\n",
              "      <th></th>\n",
              "      <th>team</th>\n",
              "      <th>wins</th>\n",
              "      <th>losses</th>\n",
              "      <th>goals</th>\n",
              "      <th>total_yel_card</th>\n",
              "      <th>total_red_card</th>\n",
              "      <th>total_scoring_att</th>\n",
              "      <th>ontarget_scoring_att</th>\n",
              "      <th>hit_woodwork</th>\n",
              "      <th>att_hd_goal</th>\n",
              "      <th>...</th>\n",
              "      <th>total_cross</th>\n",
              "      <th>corner_taken</th>\n",
              "      <th>touches</th>\n",
              "      <th>big_chance_missed</th>\n",
              "      <th>clearance_off_line</th>\n",
              "      <th>dispossessed</th>\n",
              "      <th>penalty_save</th>\n",
              "      <th>total_high_claim</th>\n",
              "      <th>punches</th>\n",
              "      <th>season</th>\n",
              "    </tr>\n",
              "  </thead>\n",
              "  <tbody>\n",
              "    <tr>\n",
              "      <th>0</th>\n",
              "      <td>Manchester United</td>\n",
              "      <td>28.0</td>\n",
              "      <td>5.0</td>\n",
              "      <td>83.0</td>\n",
              "      <td>60.0</td>\n",
              "      <td>1.0</td>\n",
              "      <td>698.0</td>\n",
              "      <td>256.0</td>\n",
              "      <td>21.0</td>\n",
              "      <td>12.0</td>\n",
              "      <td>...</td>\n",
              "      <td>918.0</td>\n",
              "      <td>258.0</td>\n",
              "      <td>25686.0</td>\n",
              "      <td>NaN</td>\n",
              "      <td>1.0</td>\n",
              "      <td>NaN</td>\n",
              "      <td>2.0</td>\n",
              "      <td>37.0</td>\n",
              "      <td>25.0</td>\n",
              "      <td>2006-2007</td>\n",
              "    </tr>\n",
              "    <tr>\n",
              "      <th>1</th>\n",
              "      <td>Chelsea</td>\n",
              "      <td>24.0</td>\n",
              "      <td>3.0</td>\n",
              "      <td>64.0</td>\n",
              "      <td>62.0</td>\n",
              "      <td>4.0</td>\n",
              "      <td>636.0</td>\n",
              "      <td>216.0</td>\n",
              "      <td>14.0</td>\n",
              "      <td>16.0</td>\n",
              "      <td>...</td>\n",
              "      <td>897.0</td>\n",
              "      <td>231.0</td>\n",
              "      <td>24010.0</td>\n",
              "      <td>NaN</td>\n",
              "      <td>2.0</td>\n",
              "      <td>NaN</td>\n",
              "      <td>1.0</td>\n",
              "      <td>74.0</td>\n",
              "      <td>22.0</td>\n",
              "      <td>2006-2007</td>\n",
              "    </tr>\n",
              "    <tr>\n",
              "      <th>2</th>\n",
              "      <td>Liverpool</td>\n",
              "      <td>20.0</td>\n",
              "      <td>10.0</td>\n",
              "      <td>57.0</td>\n",
              "      <td>44.0</td>\n",
              "      <td>0.0</td>\n",
              "      <td>668.0</td>\n",
              "      <td>214.0</td>\n",
              "      <td>15.0</td>\n",
              "      <td>8.0</td>\n",
              "      <td>...</td>\n",
              "      <td>1107.0</td>\n",
              "      <td>282.0</td>\n",
              "      <td>24150.0</td>\n",
              "      <td>NaN</td>\n",
              "      <td>1.0</td>\n",
              "      <td>NaN</td>\n",
              "      <td>0.0</td>\n",
              "      <td>51.0</td>\n",
              "      <td>27.0</td>\n",
              "      <td>2006-2007</td>\n",
              "    </tr>\n",
              "    <tr>\n",
              "      <th>3</th>\n",
              "      <td>Arsenal</td>\n",
              "      <td>19.0</td>\n",
              "      <td>8.0</td>\n",
              "      <td>63.0</td>\n",
              "      <td>59.0</td>\n",
              "      <td>3.0</td>\n",
              "      <td>638.0</td>\n",
              "      <td>226.0</td>\n",
              "      <td>19.0</td>\n",
              "      <td>10.0</td>\n",
              "      <td>...</td>\n",
              "      <td>873.0</td>\n",
              "      <td>278.0</td>\n",
              "      <td>25592.0</td>\n",
              "      <td>NaN</td>\n",
              "      <td>1.0</td>\n",
              "      <td>NaN</td>\n",
              "      <td>0.0</td>\n",
              "      <td>88.0</td>\n",
              "      <td>27.0</td>\n",
              "      <td>2006-2007</td>\n",
              "    </tr>\n",
              "    <tr>\n",
              "      <th>4</th>\n",
              "      <td>Tottenham Hotspur</td>\n",
              "      <td>17.0</td>\n",
              "      <td>12.0</td>\n",
              "      <td>57.0</td>\n",
              "      <td>48.0</td>\n",
              "      <td>3.0</td>\n",
              "      <td>520.0</td>\n",
              "      <td>184.0</td>\n",
              "      <td>6.0</td>\n",
              "      <td>5.0</td>\n",
              "      <td>...</td>\n",
              "      <td>796.0</td>\n",
              "      <td>181.0</td>\n",
              "      <td>22200.0</td>\n",
              "      <td>NaN</td>\n",
              "      <td>2.0</td>\n",
              "      <td>NaN</td>\n",
              "      <td>0.0</td>\n",
              "      <td>51.0</td>\n",
              "      <td>24.0</td>\n",
              "      <td>2006-2007</td>\n",
              "    </tr>\n",
              "  </tbody>\n",
              "</table>\n",
              "<p>5 rows × 42 columns</p>\n",
              "</div>\n",
              "    <div class=\"colab-df-buttons\">\n",
              "\n",
              "  <div class=\"colab-df-container\">\n",
              "    <button class=\"colab-df-convert\" onclick=\"convertToInteractive('df-19e54f7a-4953-48d5-8aa9-f5d3b0603944')\"\n",
              "            title=\"Convert this dataframe to an interactive table.\"\n",
              "            style=\"display:none;\">\n",
              "\n",
              "  <svg xmlns=\"http://www.w3.org/2000/svg\" height=\"24px\" viewBox=\"0 -960 960 960\">\n",
              "    <path d=\"M120-120v-720h720v720H120Zm60-500h600v-160H180v160Zm220 220h160v-160H400v160Zm0 220h160v-160H400v160ZM180-400h160v-160H180v160Zm440 0h160v-160H620v160ZM180-180h160v-160H180v160Zm440 0h160v-160H620v160Z\"/>\n",
              "  </svg>\n",
              "    </button>\n",
              "\n",
              "  <style>\n",
              "    .colab-df-container {\n",
              "      display:flex;\n",
              "      gap: 12px;\n",
              "    }\n",
              "\n",
              "    .colab-df-convert {\n",
              "      background-color: #E8F0FE;\n",
              "      border: none;\n",
              "      border-radius: 50%;\n",
              "      cursor: pointer;\n",
              "      display: none;\n",
              "      fill: #1967D2;\n",
              "      height: 32px;\n",
              "      padding: 0 0 0 0;\n",
              "      width: 32px;\n",
              "    }\n",
              "\n",
              "    .colab-df-convert:hover {\n",
              "      background-color: #E2EBFA;\n",
              "      box-shadow: 0px 1px 2px rgba(60, 64, 67, 0.3), 0px 1px 3px 1px rgba(60, 64, 67, 0.15);\n",
              "      fill: #174EA6;\n",
              "    }\n",
              "\n",
              "    .colab-df-buttons div {\n",
              "      margin-bottom: 4px;\n",
              "    }\n",
              "\n",
              "    [theme=dark] .colab-df-convert {\n",
              "      background-color: #3B4455;\n",
              "      fill: #D2E3FC;\n",
              "    }\n",
              "\n",
              "    [theme=dark] .colab-df-convert:hover {\n",
              "      background-color: #434B5C;\n",
              "      box-shadow: 0px 1px 3px 1px rgba(0, 0, 0, 0.15);\n",
              "      filter: drop-shadow(0px 1px 2px rgba(0, 0, 0, 0.3));\n",
              "      fill: #FFFFFF;\n",
              "    }\n",
              "  </style>\n",
              "\n",
              "    <script>\n",
              "      const buttonEl =\n",
              "        document.querySelector('#df-19e54f7a-4953-48d5-8aa9-f5d3b0603944 button.colab-df-convert');\n",
              "      buttonEl.style.display =\n",
              "        google.colab.kernel.accessAllowed ? 'block' : 'none';\n",
              "\n",
              "      async function convertToInteractive(key) {\n",
              "        const element = document.querySelector('#df-19e54f7a-4953-48d5-8aa9-f5d3b0603944');\n",
              "        const dataTable =\n",
              "          await google.colab.kernel.invokeFunction('convertToInteractive',\n",
              "                                                    [key], {});\n",
              "        if (!dataTable) return;\n",
              "\n",
              "        const docLinkHtml = 'Like what you see? Visit the ' +\n",
              "          '<a target=\"_blank\" href=https://colab.research.google.com/notebooks/data_table.ipynb>data table notebook</a>'\n",
              "          + ' to learn more about interactive tables.';\n",
              "        element.innerHTML = '';\n",
              "        dataTable['output_type'] = 'display_data';\n",
              "        await google.colab.output.renderOutput(dataTable, element);\n",
              "        const docLink = document.createElement('div');\n",
              "        docLink.innerHTML = docLinkHtml;\n",
              "        element.appendChild(docLink);\n",
              "      }\n",
              "    </script>\n",
              "  </div>\n",
              "\n",
              "\n",
              "<div id=\"df-ffabc595-8040-4c8e-a8f2-1b4eb2150cbb\">\n",
              "  <button class=\"colab-df-quickchart\" onclick=\"quickchart('df-ffabc595-8040-4c8e-a8f2-1b4eb2150cbb')\"\n",
              "            title=\"Suggest charts\"\n",
              "            style=\"display:none;\">\n",
              "\n",
              "<svg xmlns=\"http://www.w3.org/2000/svg\" height=\"24px\"viewBox=\"0 0 24 24\"\n",
              "     width=\"24px\">\n",
              "    <g>\n",
              "        <path d=\"M19 3H5c-1.1 0-2 .9-2 2v14c0 1.1.9 2 2 2h14c1.1 0 2-.9 2-2V5c0-1.1-.9-2-2-2zM9 17H7v-7h2v7zm4 0h-2V7h2v10zm4 0h-2v-4h2v4z\"/>\n",
              "    </g>\n",
              "</svg>\n",
              "  </button>\n",
              "\n",
              "<style>\n",
              "  .colab-df-quickchart {\n",
              "      --bg-color: #E8F0FE;\n",
              "      --fill-color: #1967D2;\n",
              "      --hover-bg-color: #E2EBFA;\n",
              "      --hover-fill-color: #174EA6;\n",
              "      --disabled-fill-color: #AAA;\n",
              "      --disabled-bg-color: #DDD;\n",
              "  }\n",
              "\n",
              "  [theme=dark] .colab-df-quickchart {\n",
              "      --bg-color: #3B4455;\n",
              "      --fill-color: #D2E3FC;\n",
              "      --hover-bg-color: #434B5C;\n",
              "      --hover-fill-color: #FFFFFF;\n",
              "      --disabled-bg-color: #3B4455;\n",
              "      --disabled-fill-color: #666;\n",
              "  }\n",
              "\n",
              "  .colab-df-quickchart {\n",
              "    background-color: var(--bg-color);\n",
              "    border: none;\n",
              "    border-radius: 50%;\n",
              "    cursor: pointer;\n",
              "    display: none;\n",
              "    fill: var(--fill-color);\n",
              "    height: 32px;\n",
              "    padding: 0;\n",
              "    width: 32px;\n",
              "  }\n",
              "\n",
              "  .colab-df-quickchart:hover {\n",
              "    background-color: var(--hover-bg-color);\n",
              "    box-shadow: 0 1px 2px rgba(60, 64, 67, 0.3), 0 1px 3px 1px rgba(60, 64, 67, 0.15);\n",
              "    fill: var(--button-hover-fill-color);\n",
              "  }\n",
              "\n",
              "  .colab-df-quickchart-complete:disabled,\n",
              "  .colab-df-quickchart-complete:disabled:hover {\n",
              "    background-color: var(--disabled-bg-color);\n",
              "    fill: var(--disabled-fill-color);\n",
              "    box-shadow: none;\n",
              "  }\n",
              "\n",
              "  .colab-df-spinner {\n",
              "    border: 2px solid var(--fill-color);\n",
              "    border-color: transparent;\n",
              "    border-bottom-color: var(--fill-color);\n",
              "    animation:\n",
              "      spin 1s steps(1) infinite;\n",
              "  }\n",
              "\n",
              "  @keyframes spin {\n",
              "    0% {\n",
              "      border-color: transparent;\n",
              "      border-bottom-color: var(--fill-color);\n",
              "      border-left-color: var(--fill-color);\n",
              "    }\n",
              "    20% {\n",
              "      border-color: transparent;\n",
              "      border-left-color: var(--fill-color);\n",
              "      border-top-color: var(--fill-color);\n",
              "    }\n",
              "    30% {\n",
              "      border-color: transparent;\n",
              "      border-left-color: var(--fill-color);\n",
              "      border-top-color: var(--fill-color);\n",
              "      border-right-color: var(--fill-color);\n",
              "    }\n",
              "    40% {\n",
              "      border-color: transparent;\n",
              "      border-right-color: var(--fill-color);\n",
              "      border-top-color: var(--fill-color);\n",
              "    }\n",
              "    60% {\n",
              "      border-color: transparent;\n",
              "      border-right-color: var(--fill-color);\n",
              "    }\n",
              "    80% {\n",
              "      border-color: transparent;\n",
              "      border-right-color: var(--fill-color);\n",
              "      border-bottom-color: var(--fill-color);\n",
              "    }\n",
              "    90% {\n",
              "      border-color: transparent;\n",
              "      border-bottom-color: var(--fill-color);\n",
              "    }\n",
              "  }\n",
              "</style>\n",
              "\n",
              "  <script>\n",
              "    async function quickchart(key) {\n",
              "      const quickchartButtonEl =\n",
              "        document.querySelector('#' + key + ' button');\n",
              "      quickchartButtonEl.disabled = true;  // To prevent multiple clicks.\n",
              "      quickchartButtonEl.classList.add('colab-df-spinner');\n",
              "      try {\n",
              "        const charts = await google.colab.kernel.invokeFunction(\n",
              "            'suggestCharts', [key], {});\n",
              "      } catch (error) {\n",
              "        console.error('Error during call to suggestCharts:', error);\n",
              "      }\n",
              "      quickchartButtonEl.classList.remove('colab-df-spinner');\n",
              "      quickchartButtonEl.classList.add('colab-df-quickchart-complete');\n",
              "    }\n",
              "    (() => {\n",
              "      let quickchartButtonEl =\n",
              "        document.querySelector('#df-ffabc595-8040-4c8e-a8f2-1b4eb2150cbb button');\n",
              "      quickchartButtonEl.style.display =\n",
              "        google.colab.kernel.accessAllowed ? 'block' : 'none';\n",
              "    })();\n",
              "  </script>\n",
              "</div>\n",
              "\n",
              "    </div>\n",
              "  </div>\n"
            ],
            "application/vnd.google.colaboratory.intrinsic+json": {
              "type": "dataframe",
              "variable_name": "premierleague"
            }
          },
          "metadata": {},
          "execution_count": 4
        }
      ]
    },
    {
      "cell_type": "markdown",
      "source": [
        "# **3 Melhores equipes com melhor desempenho**"
      ],
      "metadata": {
        "id": "jHJD0O9eTbec"
      }
    },
    {
      "cell_type": "code",
      "source": [
        "import matplotlib.pyplot as plt\n",
        "\n",
        "top_3_equipes = premierleague.nlargest(10, ['wins', 'losses', 'goals'])\n",
        "\n",
        "plt.figure(figsize=(12, 8))\n",
        "\n",
        "plt.subplot(3, 1, 1)\n",
        "plt.bar(top_3_equipes['team'], top_3_equipes['wins'], color='skyblue')\n",
        "plt.ylabel('Vitórias')\n",
        "plt.title('Top 3 Equipes da Premier League')\n",
        "\n",
        "plt.subplot(3, 1, 2)\n",
        "plt.bar(top_3_equipes['team'], top_3_equipes['losses'], color='salmon')\n",
        "plt.ylabel('Derrotas')\n",
        "\n",
        "plt.subplot(3, 1, 3)\n",
        "plt.bar(top_3_equipes['team'], top_3_equipes['goals'], color='lightgreen')\n",
        "plt.ylabel('Gols')\n",
        "\n",
        "plt.tight_layout()\n",
        "\n",
        "plt.show()\n"
      ],
      "metadata": {
        "colab": {
          "base_uri": "https://localhost:8080/",
          "height": 827
        },
        "id": "AFy3yzA5TkCP",
        "outputId": "318463fc-f5e9-4340-baef-634c38a62362"
      },
      "execution_count": 23,
      "outputs": [
        {
          "output_type": "display_data",
          "data": {
            "text/plain": [
              "<Figure size 1200x800 with 3 Axes>"
            ],
            "image/png": "[encoded data removed]"
          },
          "metadata": {}
        }
      ]
    },
    {
      "cell_type": "markdown",
      "source": [
        "# **Equipes com mais gols feitos**"
      ],
      "metadata": {
        "id": "ax6CrcpMVNRb"
      }
    },
    {
      "cell_type": "code",
      "source": [
        "import matplotlib.pyplot as plt\n",
        "\n",
        "top_10_gols_feitos = premierleague.nlargest(10, 'goals')\n",
        "\n",
        "plt.figure(figsize=(10, 6))\n",
        "plt.barh(top_10_gols_feitos['team'], top_10_gols_feitos['goals'], color='lightgreen')\n",
        "plt.xlabel('Número de Gols Marcados')\n",
        "plt.ylabel('Equipes')\n",
        "plt.title('Top Equipes da Premier League com Mais Gols Marcados')\n",
        "plt.gca().invert_yaxis()\n",
        "plt.tight_layout()\n",
        "\n",
        "\n",
        "plt.show()\n"
      ],
      "metadata": {
        "colab": {
          "base_uri": "https://localhost:8080/",
          "height": 607
        },
        "id": "3dQIup4CVSHd",
        "outputId": "815feae2-9d00-4ad2-8ce6-9b3aaab7880f"
      },
      "execution_count": 27,
      "outputs": [
        {
          "output_type": "display_data",
          "data": {
            "text/plain": [
              "<Figure size 1000x600 with 1 Axes>"
            ],
            "image/png": "[encoded data removed]"
          },
          "metadata": {}
        }
      ]
    },
    {
      "cell_type": "markdown",
      "source": [
        "# **Equipes com mais derrotas**"
      ],
      "metadata": {
        "id": "Kad_dHV3U4de"
      }
    },
    {
      "cell_type": "code",
      "source": [
        "import matplotlib.pyplot as plt\n",
        "\n",
        "top_10_derrotas = premierleague.nlargest(10, 'losses')\n",
        "\n",
        "plt.figure(figsize=(10, 6))\n",
        "plt.barh(top_10_derrotas['team'], top_10_derrotas['losses'], color='salmon')\n",
        "plt.xlabel('Número de Derrotas')\n",
        "plt.ylabel('Equipes')\n",
        "plt.title('Top 10 Equipes da Premier League com Mais Derrotas')\n",
        "plt.gca().invert_yaxis()\n",
        "plt.tight_layout()\n",
        "\n",
        "\n",
        "plt.show()\n"
      ],
      "metadata": {
        "colab": {
          "base_uri": "https://localhost:8080/",
          "height": 607
        },
        "id": "X2YYF3euU9Il",
        "outputId": "c8a8b048-fc10-4ea9-d95d-cf5ec6a5f0e9"
      },
      "execution_count": 25,
      "outputs": [
        {
          "output_type": "display_data",
          "data": {
            "text/plain": [
              "<Figure size 1000x600 with 1 Axes>"
            ],
            "image/png": "[encoded data removed]"
          },
          "metadata": {}
        }
      ]
    },
    {
      "cell_type": "markdown",
      "source": [
        "# **Qual é a média de vitórias por equipe?**"
      ],
      "metadata": {
        "id": "NiNOK3DJ4llT"
      }
    },
    {
      "cell_type": "code",
      "source": [
        "media_vitorias_por_equipe = premierleague['wins'].mean()\n",
        "print(\"A média de vitórias por equipe na Premier League é:\", media_vitorias_por_equipe)"
      ],
      "metadata": {
        "colab": {
          "base_uri": "https://localhost:8080/"
        },
        "id": "_Q4-EUhkRusA",
        "outputId": "8f2ded94-6174-4121-f95e-bc82e2ea4d0a"
      },
      "execution_count": null,
      "outputs": [
        {
          "output_type": "stream",
          "name": "stdout",
          "text": [
            "A média de vitórias por equipe na Premier League é: 14.15\n"
          ]
        }
      ]
    },
    {
      "cell_type": "markdown",
      "source": [
        "# **Existe uma correlação entre o número de gols marcados e o número de vitórias?**"
      ],
      "metadata": {
        "id": "6xaVvgk04nWx"
      }
    },
    {
      "cell_type": "code",
      "source": [
        "correlacao_gols_vitorias = premierleague['goals'].corr(premierleague['wins'])\n",
        "\n",
        "print(\"O coeficiente de correlação entre gols marcados e número de vitórias é:\", correlacao_gols_vitorias)\n"
      ],
      "metadata": {
        "colab": {
          "base_uri": "https://localhost:8080/"
        },
        "id": "4QNJDlNMS0r5",
        "outputId": "9470d997-602e-4617-83f2-6411c996e8c4"
      },
      "execution_count": null,
      "outputs": [
        {
          "output_type": "stream",
          "name": "stdout",
          "text": [
            "O coeficiente de correlação entre gols marcados e número de vitórias é: 0.8992362728131303\n"
          ]
        }
      ]
    },
    {
      "cell_type": "markdown",
      "source": [
        "há uma tendência significativa de que equipes que marcam mais gols também tenham mais vitórias."
      ],
      "metadata": {
        "id": "mzDI9O7_THkB"
      }
    },
    {
      "cell_type": "markdown",
      "source": [
        "# **Quais equipes têm o maior número de cartões amarelos e vermelhos acumulados?**"
      ],
      "metadata": {
        "id": "H7fXS1Nl5EXy"
      }
    },
    {
      "cell_type": "code",
      "source": [
        "premierleague['total_cards'] = premierleague['total_yel_card'] + premierleague['total_red_card']\n",
        "\n",
        "total_cartoes_por_equipe = premierleague.groupby('team')['total_cards'].sum()\n",
        "\n",
        "equipes_mais_cartoes = total_cartoes_por_equipe.sort_values(ascending=False)\n",
        "\n",
        "print(\"Equipes com o maior número de cartões amarelos e vermelhos acumulados:\")\n",
        "print(equipes_mais_cartoes)\n"
      ],
      "metadata": {
        "colab": {
          "base_uri": "https://localhost:8080/"
        },
        "id": "jV-pIHCHTWuY",
        "outputId": "7510ebad-c8a4-4aae-8a8d-e727ff65eaa2"
      },
      "execution_count": null,
      "outputs": [
        {
          "output_type": "stream",
          "name": "stdout",
          "text": [
            "Equipes com o maior número de cartões amarelos e vermelhos acumulados:\n",
            "team\n",
            "West Ham United             775.0\n",
            "Manchester City             767.0\n",
            "Chelsea                     756.0\n",
            "Manchester United           751.0\n",
            "Sunderland                  736.0\n",
            "Arsenal                     725.0\n",
            "Tottenham Hotspur           716.0\n",
            "Stoke City                  710.0\n",
            "Everton                     704.0\n",
            "Aston Villa                 677.0\n",
            "Newcastle United            669.0\n",
            "Liverpool                   666.0\n",
            "West Bromwich Albion        599.0\n",
            "Wigan Athletic              479.0\n",
            "Blackburn Rovers            439.0\n",
            "Bolton Wanderers            433.0\n",
            "Fulham                      425.0\n",
            "Swansea City                382.0\n",
            "Southampton                 354.0\n",
            "Hull City                   352.0\n",
            "Crystal Palace              338.0\n",
            "Middlesbrough               290.0\n",
            "Watford                     279.0\n",
            "Burnley                     257.0\n",
            "Norwich City                250.0\n",
            "Portsmouth                  243.0\n",
            "Leicester City              234.0\n",
            "Birmingham City             208.0\n",
            "Queens Park Rangers         203.0\n",
            "Wolverhampton Wanderers     199.0\n",
            "AFC Bournemouth             165.0\n",
            "Reading                     151.0\n",
            "Sheffield United             70.0\n",
            "Huddersfield Town            65.0\n",
            "Derby County                 64.0\n",
            "Charlton Athletic            60.0\n",
            "Brighton and Hove Albion     56.0\n",
            "Cardiff City                 50.0\n",
            "Blackpool                    49.0\n",
            "Name: total_cards, dtype: float64\n"
          ]
        }
      ]
    },
    {
      "cell_type": "markdown",
      "source": [
        "# **Qual é a eficácia das tentativas de gol, medido pelo número de gols marcados em relação ao total de tentativas de gol?**"
      ],
      "metadata": {
        "id": "AX1CH3cD5jPK"
      }
    },
    {
      "cell_type": "code",
      "source": [
        "premierleague['eficacia_gols'] = premierleague['goals'] / premierleague['total_scoring_att']\n",
        "\n",
        "media_eficacia_gols = premierleague['eficacia_gols'].mean()\n",
        "\n",
        "print(\"A eficácia média das tentativas de gol na Premier League é de:\", media_eficacia_gols)\n"
      ],
      "metadata": {
        "colab": {
          "base_uri": "https://localhost:8080/"
        },
        "id": "8AU0Ra3uUG-x",
        "outputId": "c3813f00-42e8-4cda-b3da-2e06d91cc2de"
      },
      "execution_count": null,
      "outputs": [
        {
          "output_type": "stream",
          "name": "stdout",
          "text": [
            "A eficácia média das tentativas de gol na Premier League é de: 0.09823131038881541\n"
          ]
        }
      ]
    },
    {
      "cell_type": "markdown",
      "source": [
        "em média, cerca de 9.8% das tentativas de gol resultam em gols na Premier League, com base nos dados fornecidos. Essa taxa relativamente baixa pode indicar que pode haver espaço para melhorias nas habilidades de finalização das equipes ou em suas estratégias ofensivas para criar oportunidades de gol mais claras."
      ],
      "metadata": {
        "id": "4oAl1d5LUeOh"
      }
    },
    {
      "cell_type": "markdown",
      "source": [
        "# **Há uma correlação entre o número de gols marcados em jogadas de bola parada (faltas, pênaltis, etc.) e o sucesso da equipe?**"
      ],
      "metadata": {
        "id": "LO17O_rs5l9C"
      }
    },
    {
      "cell_type": "code",
      "source": [
        "correlacao = premierleague['att_freekick_goal'].corr(premierleague['wins'])\n",
        "\n",
        "print(\"Correlação entre gols marcados em jogadas de bola parada e número de vitórias:\", correlacao)\n"
      ],
      "metadata": {
        "colab": {
          "base_uri": "https://localhost:8080/"
        },
        "id": "1Zc3jxqhVxjk",
        "outputId": "7985df09-e576-43c3-aadb-0991c2133c7b"
      },
      "execution_count": null,
      "outputs": [
        {
          "output_type": "stream",
          "name": "stdout",
          "text": [
            "Correlação entre gols marcados em jogadas de bola parada e número de vitórias: 0.2966961912691831\n"
          ]
        }
      ]
    },
    {
      "cell_type": "markdown",
      "source": [
        "Correlação positiva fraca entre o número de gols marcados em jogadas de bola parada e o sucesso da equipe. No entanto, equipes que marcam mais gols em jogadas de bola parada podem ter um sucesso ligeiramente maior em termos de vitórias."
      ],
      "metadata": {
        "id": "SC5EJeMSWxRh"
      }
    },
    {
      "cell_type": "markdown",
      "source": [
        "# **Qual é a porcentagem de chutes ao gol que atingiram a trave?**"
      ],
      "metadata": {
        "id": "9uuL8QR85oxh"
      }
    },
    {
      "cell_type": "code",
      "source": [
        "porcentagem_trave = (premierleague['hit_woodwork'].sum() / premierleague['total_scoring_att'].sum()) * 100\n",
        "\n",
        "print(\"Porcentagem de chutes na trave na Premier League:\", porcentagem_trave, \"%\")\n"
      ],
      "metadata": {
        "colab": {
          "base_uri": "https://localhost:8080/"
        },
        "id": "joaKbi6_XlSy",
        "outputId": "20bb29ed-e97f-4f1e-b2db-f78a4e91adeb"
      },
      "execution_count": null,
      "outputs": [
        {
          "output_type": "stream",
          "name": "stdout",
          "text": [
            "Porcentagem de chutes na trave na Premier League: 2.3886305077055208 %\n"
          ]
        }
      ]
    },
    {
      "cell_type": "markdown",
      "source": [
        "# **Quais equipes têm o maior número de gols marcados em contra-ataques?**"
      ],
      "metadata": {
        "id": "Xe5AnGrm5utq"
      }
    },
    {
      "cell_type": "code",
      "source": [
        "gols_contra_ataque_por_equipe = premierleague.groupby('team')['goal_fastbreak'].sum()\n",
        "\n",
        "equipes_mais_gols_contra_ataque = gols_contra_ataque_por_equipe.sort_values(ascending=False)\n",
        "\n",
        "print(\"Equipes com o maior número de gols marcados em contra-ataques:\")\n",
        "print(equipes_mais_gols_contra_ataque)\n"
      ],
      "metadata": {
        "colab": {
          "base_uri": "https://localhost:8080/"
        },
        "id": "Aq6m-p3dlt6M",
        "outputId": "1f140e00-583a-4a95-c734-7f5c19275437"
      },
      "execution_count": null,
      "outputs": [
        {
          "output_type": "stream",
          "name": "stdout",
          "text": [
            "Equipes com o maior número de gols marcados em contra-ataques:\n",
            "team\n",
            "Manchester City             69.0\n",
            "Tottenham Hotspur           65.0\n",
            "Arsenal                     60.0\n",
            "Manchester United           57.0\n",
            "Liverpool                   49.0\n",
            "Chelsea                     45.0\n",
            "Aston Villa                 41.0\n",
            "Everton                     35.0\n",
            "Newcastle United            29.0\n",
            "Sunderland                  28.0\n",
            "West Ham United             25.0\n",
            "West Bromwich Albion        23.0\n",
            "Leicester City              20.0\n",
            "Wigan Athletic              18.0\n",
            "Fulham                      16.0\n",
            "Stoke City                  14.0\n",
            "Hull City                   13.0\n",
            "Middlesbrough               12.0\n",
            "Portsmouth                  12.0\n",
            "Bolton Wanderers            10.0\n",
            "Blackburn Rovers            10.0\n",
            "Southampton                  9.0\n",
            "Swansea City                 8.0\n",
            "Reading                      8.0\n",
            "Birmingham City              6.0\n",
            "Crystal Palace               5.0\n",
            "Norwich City                 5.0\n",
            "Burnley                      4.0\n",
            "Queens Park Rangers          4.0\n",
            "Blackpool                    3.0\n",
            "AFC Bournemouth              2.0\n",
            "Sheffield United             2.0\n",
            "Huddersfield Town            2.0\n",
            "Derby County                 2.0\n",
            "Charlton Athletic            2.0\n",
            "Wolverhampton Wanderers      2.0\n",
            "Watford                      1.0\n",
            "Cardiff City                 0.0\n",
            "Brighton and Hove Albion     0.0\n",
            "Name: goal_fastbreak, dtype: float64\n"
          ]
        }
      ]
    },
    {
      "cell_type": "markdown",
      "source": [
        "# **Existe uma correlação entre o número de vezes que uma equipe fica em posição de impedimento e seu desempenho geral?**"
      ],
      "metadata": {
        "id": "a6NynXrA51IQ"
      }
    },
    {
      "cell_type": "code",
      "source": [
        "correlacao_impedimento_desempenho = premierleague['total_offside'].corr(premierleague['wins'])\n",
        "\n",
        "print(\"Correlação entre número de vezes em posição de impedimento e desempenho geral:\", correlacao_impedimento_desempenho)\n"
      ],
      "metadata": {
        "colab": {
          "base_uri": "https://localhost:8080/"
        },
        "id": "nycdvTyhl6-w",
        "outputId": "d859a09c-3f31-4d0f-f4f0-723ab03709fe"
      },
      "execution_count": null,
      "outputs": [
        {
          "output_type": "stream",
          "name": "stdout",
          "text": [
            "Correlação entre número de vezes em posição de impedimento e desempenho geral: 0.10776581111640278\n"
          ]
        }
      ]
    },
    {
      "cell_type": "markdown",
      "source": [
        "Uma correlação positiva fraca indica que existe alguma associação entre as duas variáveis, mas não é forte o suficiente para fazer previsões confiáveis sobre o desempenho de uma equipe com base apenas no número de vezes em posição de impedimento."
      ],
      "metadata": {
        "id": "pQtHQXwhmJRJ"
      }
    },
    {
      "cell_type": "markdown",
      "source": [
        "# **Qual é a média de passes totais por equipe? E a precisão dos passes?**"
      ],
      "metadata": {
        "id": "KzsPfuWA56jZ"
      }
    },
    {
      "cell_type": "code",
      "source": [
        "media_passes_totais_por_equipe = premierleague.groupby('team')['total_pass'].mean().sort_values(ascending=False)\n",
        "\n",
        "precisao_passes_por_equipe = (premierleague.groupby('team')['total_pass'].sum() / premierleague.groupby('team')['total_pass'].sum().sum()) * 100\n",
        "\n",
        "precisao_passes_por_equipe = precisao_passes_por_equipe.sort_values(ascending=False)\n",
        "\n",
        "print(\"Média de passes totais por equipe (do maior para o menor):\")\n",
        "print(media_passes_totais_por_equipe)\n",
        "\n",
        "print(\"\\nPrecisão dos passes por equipe (%), (do maior para o menor):\")\n",
        "print(precisao_passes_por_equipe)\n"
      ],
      "metadata": {
        "colab": {
          "base_uri": "https://localhost:8080/"
        },
        "id": "Bm3aOMTunQOv",
        "outputId": "93e32c27-84e8-4230-aa13-453fca92d8a8"
      },
      "execution_count": null,
      "outputs": [
        {
          "output_type": "stream",
          "name": "stdout",
          "text": [
            "Média de passes totais por equipe (do maior para o menor):\n",
            "team\n",
            "Arsenal                     20473.750000\n",
            "Manchester United           19517.750000\n",
            "Manchester City             19433.583333\n",
            "Liverpool                   19239.916667\n",
            "Chelsea                     19066.666667\n",
            "Swansea City                18535.571429\n",
            "Tottenham Hotspur           17691.083333\n",
            "Southampton                 17650.500000\n",
            "AFC Bournemouth             16851.000000\n",
            "Everton                     15598.500000\n",
            "Fulham                      15328.625000\n",
            "Blackpool                   15113.000000\n",
            "Huddersfield Town           14960.000000\n",
            "Brighton and Hove Albion    14675.000000\n",
            "Newcastle United            14643.000000\n",
            "Norwich City                14449.500000\n",
            "Wolverhampton Wanderers     14234.333333\n",
            "Wigan Athletic              14133.000000\n",
            "Cardiff City                14007.000000\n",
            "West Ham United             13935.545455\n",
            "Leicester City              13896.000000\n",
            "Hull City                   13853.400000\n",
            "West Bromwich Albion        13809.111111\n",
            "Aston Villa                 13794.500000\n",
            "Watford                     13602.000000\n",
            "Queens Park Rangers         13558.000000\n",
            "Sunderland                  13461.400000\n",
            "Middlesbrough               13459.750000\n",
            "Portsmouth                  13354.000000\n",
            "Burnley                     13338.250000\n",
            "Crystal Palace              13112.400000\n",
            "Stoke City                  12775.400000\n",
            "Blackburn Rovers            12752.166667\n",
            "Birmingham City             12735.333333\n",
            "Charlton Athletic           12722.000000\n",
            "Bolton Wanderers            12098.500000\n",
            "Derby County                11739.000000\n",
            "Reading                     11156.333333\n",
            "Sheffield United            11123.000000\n",
            "Name: total_pass, dtype: float64\n",
            "\n",
            "Precisão dos passes por equipe (%), (do maior para o menor):\n",
            "team\n",
            "Arsenal                     6.523665\n",
            "Manchester United           6.219049\n",
            "Manchester City             6.192231\n",
            "Liverpool                   6.130522\n",
            "Chelsea                     6.075318\n",
            "Tottenham Hotspur           5.637008\n",
            "Everton                     4.970237\n",
            "West Ham United             4.070330\n",
            "Newcastle United            3.888150\n",
            "Aston Villa                 3.662849\n",
            "Sunderland                  3.574401\n",
            "Swansea City                3.445220\n",
            "Stoke City                  3.392247\n",
            "West Bromwich Albion        3.300055\n",
            "Fulham                      3.256163\n",
            "Southampton                 2.812038\n",
            "Wigan Athletic              2.626911\n",
            "Blackburn Rovers            2.031647\n",
            "Bolton Wanderers            1.927506\n",
            "Hull City                   1.839244\n",
            "Crystal Palace              1.740865\n",
            "Norwich City                1.534708\n",
            "Leicester City              1.475920\n",
            "Watford                     1.444694\n",
            "Middlesbrough               1.429585\n",
            "Portsmouth                  1.418353\n",
            "Burnley                     1.416680\n",
            "AFC Bournemouth             1.342332\n",
            "Wolverhampton Wanderers     1.133891\n",
            "Queens Park Rangers         1.080015\n",
            "Birmingham City             1.014483\n",
            "Reading                     0.888701\n",
            "Blackpool                   0.401295\n",
            "Huddersfield Town           0.397232\n",
            "Brighton and Hove Albion    0.389665\n",
            "Cardiff City                0.371927\n",
            "Charlton Athletic           0.337807\n",
            "Derby County                0.311705\n",
            "Sheffield United            0.295349\n",
            "Name: total_pass, dtype: float64\n"
          ]
        }
      ]
    },
    {
      "cell_type": "markdown",
      "source": [
        "# **Quais equipes realizam mais passes longos e qual é o impacto desses passes em seu desempenho?**"
      ],
      "metadata": {
        "id": "iKStWPbf5-EO"
      }
    },
    {
      "cell_type": "code",
      "source": [
        "import matplotlib.pyplot as plt\n",
        "\n",
        "passes_longos_por_equipe = premierleague.groupby('team')['total_long_balls'].sum()\n",
        "\n",
        "desempenho = premierleague.groupby('team')['wins'].sum()\n",
        "\n",
        "correlacao_passes_desempenho = passes_longos_por_equipe.corr(desempenho)\n",
        "\n",
        "equipes_mais_passes_longos = passes_longos_por_equipe.sort_values(ascending=False)\n",
        "\n",
        "print(\"Equipes que realizam mais passes longos:\")\n",
        "print(equipes_mais_passes_longos)\n",
        "\n",
        "print(\"\\nCorrelação entre passes longos e desempenho:\", correlacao_passes_desempenho)\n",
        "\n",
        "plt.scatter(passes_longos_por_equipe, desempenho)\n",
        "plt.xlabel('Passes Longos')\n",
        "plt.ylabel('Desempenho (Vitórias)')\n",
        "plt.title('Relação entre Passes Longos e Desempenho')\n",
        "plt.show()\n"
      ],
      "metadata": {
        "colab": {
          "base_uri": "https://localhost:8080/",
          "height": 1000
        },
        "id": "AaJiJQfQn5_w",
        "outputId": "6b5970ab-643e-4d9f-9058-8fe9b58efe1c"
      },
      "execution_count": 13,
      "outputs": [
        {
          "output_type": "stream",
          "name": "stdout",
          "text": [
            "Equipes que realizam mais passes longos:\n",
            "team\n",
            "Everton                     28637.0\n",
            "Liverpool                   28418.0\n",
            "Tottenham Hotspur           28369.0\n",
            "Manchester United           28079.0\n",
            "Chelsea                     25868.0\n",
            "West Ham United             25279.0\n",
            "Manchester City             23562.0\n",
            "Newcastle United            23264.0\n",
            "Sunderland                  22745.0\n",
            "Stoke City                  22405.0\n",
            "Arsenal                     22134.0\n",
            "Aston Villa                 21792.0\n",
            "West Bromwich Albion        20956.0\n",
            "Fulham                      17300.0\n",
            "Swansea City                16137.0\n",
            "Wigan Athletic              15833.0\n",
            "Southampton                 14342.0\n",
            "Blackburn Rovers            13459.0\n",
            "Bolton Wanderers            13404.0\n",
            "Crystal Palace              12417.0\n",
            "Hull City                   12048.0\n",
            "Burnley                     11573.0\n",
            "Leicester City              10860.0\n",
            "Watford                     10212.0\n",
            "Middlesbrough                9730.0\n",
            "Norwich City                 9251.0\n",
            "Portsmouth                   8910.0\n",
            "Birmingham City              7309.0\n",
            "AFC Bournemouth              7244.0\n",
            "Queens Park Rangers          6953.0\n",
            "Wolverhampton Wanderers      6906.0\n",
            "Reading                      6432.0\n",
            "Brighton and Hove Albion     2774.0\n",
            "Blackpool                    2582.0\n",
            "Huddersfield Town            2563.0\n",
            "Charlton Athletic            2466.0\n",
            "Sheffield United             2248.0\n",
            "Derby County                 2168.0\n",
            "Cardiff City                 2047.0\n",
            "Name: total_long_balls, dtype: float64\n",
            "\n",
            "Correlação entre passes longos e desempenho: 0.8843511007368366\n"
          ]
        },
        {
          "output_type": "display_data",
          "data": {
            "text/plain": [
              "<Figure size 640x480 with 1 Axes>"
            ],
            "image/png": "[encoded data removed]"
          },
          "metadata": {}
        }
      ]
    },
    {
      "cell_type": "markdown",
      "source": [
        "Há uma associação significativa entre o número de passes longos realizados por uma equipe e seu desempenho, medido e o número de vitórias. Quando o número de passes longos aumenta, o desempenho da equipe tende a melhorar, e quando o número de passes longos diminui, o desempenho tende a piorar."
      ],
      "metadata": {
        "id": "9JODqaPOoIU_"
      }
    },
    {
      "cell_type": "markdown",
      "source": [
        "# **Existe uma correlação entre o número de interceptações feitas por uma equipe e sua defesa sólida?**"
      ],
      "metadata": {
        "id": "F9pHhs_16EYq"
      }
    },
    {
      "cell_type": "code",
      "source": [
        "correlacao_interceptacoes_defesa = premierleague['interception'].corr(premierleague['goals_conceded'])\n",
        "\n",
        "print(\"Correlação entre número de interceptações e defesa sólida:\", correlacao_interceptacoes_defesa)\n"
      ],
      "metadata": {
        "colab": {
          "base_uri": "https://localhost:8080/"
        },
        "id": "6mvAgNJHpgvN",
        "outputId": "c89a558d-8983-4714-9305-de3887cba458"
      },
      "execution_count": null,
      "outputs": [
        {
          "output_type": "stream",
          "name": "stdout",
          "text": [
            "Correlação entre número de interceptações e defesa sólida: 0.08365799993498563\n"
          ]
        }
      ]
    },
    {
      "cell_type": "markdown",
      "source": [
        " há uma associação mínima entre o número de interceptações feitas por uma equipe e sua capacidade defensiva, medida pelo número de gols concedidos."
      ],
      "metadata": {
        "id": "75uS5bL8ptf_"
      }
    },
    {
      "cell_type": "markdown",
      "source": [
        "# **Quais equipes têm o maior número de roubadas de bola?**\n",
        "\n"
      ],
      "metadata": {
        "id": "t_n3WS0D6H_p"
      }
    },
    {
      "cell_type": "code",
      "source": [
        "tackles_bem_sucedidos_por_equipe = premierleague.groupby('team')['total_tackle'].sum()\n",
        "\n",
        "equipes_mais_tackles_bem_sucedidos = tackles_bem_sucedidos_por_equipe.sort_values(ascending=False)\n",
        "\n",
        "print(\"Equipes com o maior número de tackles bem-sucedidos:\")\n",
        "print(equipes_mais_tackles_bem_sucedidos)"
      ],
      "metadata": {
        "colab": {
          "base_uri": "https://localhost:8080/"
        },
        "id": "A6ViQJbhPlGt",
        "outputId": "52d17b9a-8bb6-4b77-adce-26072aa36df8"
      },
      "execution_count": 5,
      "outputs": [
        {
          "output_type": "stream",
          "name": "stdout",
          "text": [
            "Equipes com o maior número de tackles bem-sucedidos:\n",
            "team\n",
            "Liverpool                   10247.0\n",
            "Tottenham Hotspur            9461.0\n",
            "Arsenal                      9298.0\n",
            "Manchester City              9288.0\n",
            "Chelsea                      9191.0\n",
            "Manchester United            9093.0\n",
            "Everton                      8818.0\n",
            "West Ham United              8149.0\n",
            "Aston Villa                  8143.0\n",
            "Sunderland                   7956.0\n",
            "Newcastle United             7715.0\n",
            "Stoke City                   7085.0\n",
            "Fulham                       6159.0\n",
            "West Bromwich Albion         6157.0\n",
            "Wigan Athletic               5893.0\n",
            "Bolton Wanderers             5150.0\n",
            "Blackburn Rovers             4668.0\n",
            "Swansea City                 4586.0\n",
            "Southampton                  4484.0\n",
            "Hull City                    3688.0\n",
            "Crystal Palace               3669.0\n",
            "Portsmouth                   3607.0\n",
            "Middlesbrough                3187.0\n",
            "Leicester City               2967.0\n",
            "Watford                      2824.0\n",
            "Norwich City                 2651.0\n",
            "Burnley                      2472.0\n",
            "Birmingham City              2388.0\n",
            "Queens Park Rangers          2363.0\n",
            "Reading                      2257.0\n",
            "Wolverhampton Wanderers      2001.0\n",
            "AFC Bournemouth              1821.0\n",
            "Charlton Athletic             919.0\n",
            "Sheffield United              917.0\n",
            "Derby County                  898.0\n",
            "Blackpool                     780.0\n",
            "Huddersfield Town             744.0\n",
            "Cardiff City                  619.0\n",
            "Brighton and Hove Albion      599.0\n",
            "Name: total_tackle, dtype: float64\n"
          ]
        }
      ]
    },
    {
      "cell_type": "markdown",
      "source": [
        "# **Qual é a eficácia das equipes em bloquear chutes adversários?**"
      ],
      "metadata": {
        "id": "BevVRuuk6KzC"
      }
    },
    {
      "cell_type": "code",
      "source": [
        "eficacia_bloqueio_por_equipe = premierleague.groupby('team')['eficacia_bloqueio'].mean()\n",
        "\n",
        "eficacia_bloqueio_por_equipe = eficacia_bloqueio_por_equipe.sort_values(ascending=False)\n",
        "print(\"Eficácia média das equipes em bloquear chutes adversários (%):\")\n",
        "print(eficacia_bloqueio_por_equipe)\n"
      ],
      "metadata": {
        "colab": {
          "base_uri": "https://localhost:8080/"
        },
        "id": "CK785r1pP_CL",
        "outputId": "0a636053-ec8d-4cf9-8a1b-70916c773f42"
      },
      "execution_count": 8,
      "outputs": [
        {
          "output_type": "stream",
          "name": "stdout",
          "text": [
            "Eficácia média das equipes em bloquear chutes adversários (%):\n",
            "team\n",
            "Brighton and Hove Albion    49.479167\n",
            "Burnley                     45.234362\n",
            "Cardiff City                42.583732\n",
            "Birmingham City             40.626194\n",
            "Blackpool                   38.794727\n",
            "Hull City                   38.306579\n",
            "Stoke City                  37.958886\n",
            "Sunderland                  35.666560\n",
            "Derby County                34.308511\n",
            "Aston Villa                 33.537461\n",
            "Queens Park Rangers         33.089719\n",
            "Charlton Athletic           33.014354\n",
            "West Ham United             32.983732\n",
            "Leicester City              32.601039\n",
            "Huddersfield Town           32.596685\n",
            "West Bromwich Albion        32.413838\n",
            "Wolverhampton Wanderers     31.880422\n",
            "Crystal Palace              31.815161\n",
            "Swansea City                31.513733\n",
            "Reading                     31.276651\n",
            "Middlesbrough               31.207942\n",
            "Norwich City                30.874737\n",
            "Bolton Wanderers            30.242011\n",
            "AFC Bournemouth             30.146423\n",
            "Fulham                      29.252680\n",
            "Everton                     28.718734\n",
            "Blackburn Rovers            28.529629\n",
            "Newcastle United            27.152796\n",
            "Watford                     27.081601\n",
            "Sheffield United            25.258799\n",
            "Wigan Athletic              23.197490\n",
            "Southampton                 21.645429\n",
            "Portsmouth                  21.249397\n",
            "Tottenham Hotspur           18.681719\n",
            "Manchester United           18.414159\n",
            "Manchester City             17.742148\n",
            "Chelsea                     16.267896\n",
            "Arsenal                     15.891581\n",
            "Liverpool                   14.319823\n",
            "Name: eficacia_bloqueio, dtype: float64\n"
          ]
        }
      ]
    },
    {
      "cell_type": "markdown",
      "source": [
        "# **Há uma correlação entre o número de clearance off-line e o número de gols sofridos?**"
      ],
      "metadata": {
        "id": "wJQ3N8DJ6Nzi"
      }
    },
    {
      "cell_type": "code",
      "source": [
        "correlacao_clearance_gols = premierleague['clearance_off_line'].corr(premierleague['goals_conceded'])\n",
        "\n",
        "print(\"Correlação entre clearance off-line e gols sofridos:\", correlacao_clearance_gols)\n"
      ],
      "metadata": {
        "colab": {
          "base_uri": "https://localhost:8080/"
        },
        "id": "hcmZVJ4oQwpe",
        "outputId": "719fff36-09f2-4b00-a35f-3a87426b08f5"
      },
      "execution_count": 9,
      "outputs": [
        {
          "output_type": "stream",
          "name": "stdout",
          "text": [
            "Correlação entre clearance off-line e gols sofridos: 0.3341928316572894\n"
          ]
        }
      ]
    },
    {
      "cell_type": "markdown",
      "source": [
        "Existe uma associação moderada entre o número de clearance off-line feitos por uma equipe e o número de gols que ela sofre. Nesse caso, uma correlação positiva sugere que à medida que o número de clearance off-line aumenta, o número de gols sofridos também tende a aumentar, e vice-versa."
      ],
      "metadata": {
        "id": "Y5-0OdnQQ7gp"
      }
    },
    {
      "cell_type": "markdown",
      "source": [
        "# **Quais equipes têm o menor número de posses de bola perdidas?**"
      ],
      "metadata": {
        "id": "ZIfW6Ihk6RAa"
      }
    },
    {
      "cell_type": "code",
      "source": [
        "premierleague_teams = premierleague[premierleague['team'].isin(['Arsenal', 'Aston Villa', 'Brentford', 'Brighton and Hove Albion', 'Burnley', 'Chelsea', 'Crystal Palace', 'Everton', 'Leeds United', 'Leicester City', 'Liverpool', 'Manchester City', 'Manchester United', 'Newcastle United', 'Norwich City', 'Southampton', 'Tottenham Hotspur', 'Watford', 'West Ham United', 'Wolverhampton Wanderers'])]\n",
        "\n",
        "posses_perdidas_por_equipe = premierleague_teams.groupby('team')['dispossessed'].sum()\n",
        "\n",
        "equipes_menos_posses_perdidas = posses_perdidas_por_equipe.sort_values(ascending=False)\n",
        "\n",
        "print(\"Equipes com o menor número de posses de bola perdidas:\")\n",
        "print(equipes_menos_posses_perdidas)\n"
      ],
      "metadata": {
        "colab": {
          "base_uri": "https://localhost:8080/"
        },
        "id": "jBO_kiT2RJXk",
        "outputId": "105c7799-6163-4ee2-b410-5632067b73f2"
      },
      "execution_count": 12,
      "outputs": [
        {
          "output_type": "stream",
          "name": "stdout",
          "text": [
            "Equipes com o menor número de posses de bola perdidas:\n",
            "team\n",
            "Arsenal                     6011.0\n",
            "Tottenham Hotspur           5906.0\n",
            "Manchester City             5545.0\n",
            "Manchester United           5520.0\n",
            "Everton                     5500.0\n",
            "Chelsea                     5418.0\n",
            "Liverpool                   5408.0\n",
            "Newcastle United            4765.0\n",
            "West Ham United             4622.0\n",
            "Aston Villa                 3976.0\n",
            "Southampton                 2680.0\n",
            "Crystal Palace              2131.0\n",
            "Norwich City                1681.0\n",
            "Burnley                     1547.0\n",
            "Leicester City              1389.0\n",
            "Wolverhampton Wanderers     1261.0\n",
            "Watford                     1191.0\n",
            "Brighton and Hove Albion     296.0\n",
            "Name: dispossessed, dtype: float64\n"
          ]
        }
      ]
    },
    {
      "cell_type": "markdown",
      "source": [
        "# **Qual é a eficácia dos goleiros em salvar pênaltis?**"
      ],
      "metadata": {
        "id": "HC5xvqZ06VK6"
      }
    },
    {
      "cell_type": "code",
      "source": [
        "eficacia_pênaltis = (premierleague['penalty_save'] / premierleague['penalty_conceded']) * 100\n",
        "\n",
        "media_eficacia_pênaltis = eficacia_pênaltis.mean()\n",
        "\n",
        "print(\"Eficácia média dos goleiros em salvar pênaltis: {:.2f}%\".format(media_eficacia_pênaltis))\n"
      ],
      "metadata": {
        "colab": {
          "base_uri": "https://localhost:8080/"
        },
        "id": "xQ7MGkewR7mU",
        "outputId": "602d82d4-661a-4449-f3bc-449fa017b26d"
      },
      "execution_count": 14,
      "outputs": [
        {
          "output_type": "stream",
          "name": "stdout",
          "text": [
            "Eficácia média dos goleiros em salvar pênaltis: 17.24%\n"
          ]
        }
      ]
    },
    {
      "cell_type": "markdown",
      "source": [
        "# **Existe uma correlação entre o número de grandes chances perdidas e o desempenho geral da equipe?**"
      ],
      "metadata": {
        "id": "jdf0VJyr6X4B"
      }
    },
    {
      "cell_type": "code",
      "source": [
        "correlacao = premierleague['big_chance_missed'].corr(premierleague['wins'])\n",
        "\n",
        "print(\"Correlação entre grandes chances perdidas e desempenho geral da equipe:\", correlacao)\n"
      ],
      "metadata": {
        "colab": {
          "base_uri": "https://localhost:8080/"
        },
        "id": "kdPqjgeFSIDb",
        "outputId": "3c43b20e-ac07-446e-bef4-16ad5b64df94"
      },
      "execution_count": 15,
      "outputs": [
        {
          "output_type": "stream",
          "name": "stdout",
          "text": [
            "Correlação entre grandes chances perdidas e desempenho geral da equipe: 0.604177909009563\n"
          ]
        }
      ]
    },
    {
      "cell_type": "markdown",
      "source": [
        "Equipes que perdem menos grandes chances têm maior probabilidade de ter um desempenho melhor (mais vitórias) e vice-versa. Isso pode indicar a importância de converter grandes chances em gols para alcançar um melhor desempenho na Premier League."
      ],
      "metadata": {
        "id": "3C-9GNpOSZpu"
      }
    },
    {
      "cell_type": "markdown",
      "source": [
        "# **Quais equipes têm o maior número de defesas de bola alta?**"
      ],
      "metadata": {
        "id": "Uyky495l6aFT"
      }
    },
    {
      "cell_type": "code",
      "source": [
        "defesas_bola_alta_por_equipe = premierleague.groupby('team')['total_high_claim'].sum()\n",
        "\n",
        "mais_defesas_bola_alta = defesas_bola_alta_por_equipe.sort_values(ascending=False)\n",
        "\n",
        "print(\"Equipes com o maior número de defesas de bola alta:\")\n",
        "print(mais_defesas_bola_alta)\n"
      ],
      "metadata": {
        "colab": {
          "base_uri": "https://localhost:8080/"
        },
        "id": "tXri9NgLSkgr",
        "outputId": "a0dc1712-ad5c-47b9-ff60-409bc677bedf"
      },
      "execution_count": 16,
      "outputs": [
        {
          "output_type": "stream",
          "name": "stdout",
          "text": [
            "Equipes com o maior número de defesas de bola alta:\n",
            "team\n",
            "Chelsea                     775.0\n",
            "Stoke City                  703.0\n",
            "Everton                     700.0\n",
            "Arsenal                     678.0\n",
            "Sunderland                  605.0\n",
            "Aston Villa                 585.0\n",
            "West Ham United             575.0\n",
            "Tottenham Hotspur           570.0\n",
            "Fulham                      558.0\n",
            "Manchester City             542.0\n",
            "Newcastle United            526.0\n",
            "West Bromwich Albion        523.0\n",
            "Liverpool                   516.0\n",
            "Manchester United           471.0\n",
            "Swansea City                457.0\n",
            "Wigan Athletic              346.0\n",
            "Blackburn Rovers            327.0\n",
            "Portsmouth                  318.0\n",
            "Crystal Palace              296.0\n",
            "Bolton Wanderers            287.0\n",
            "Wolverhampton Wanderers     283.0\n",
            "Middlesbrough               270.0\n",
            "Southampton                 247.0\n",
            "Norwich City                237.0\n",
            "Birmingham City             226.0\n",
            "Hull City                   215.0\n",
            "Watford                     208.0\n",
            "Burnley                     197.0\n",
            "Reading                     171.0\n",
            "Leicester City              161.0\n",
            "Queens Park Rangers         139.0\n",
            "AFC Bournemouth             131.0\n",
            "Derby County                 68.0\n",
            "Cardiff City                 59.0\n",
            "Charlton Athletic            50.0\n",
            "Blackpool                    49.0\n",
            "Sheffield United             43.0\n",
            "Brighton and Hove Albion     38.0\n",
            "Huddersfield Town            31.0\n",
            "Name: total_high_claim, dtype: float64\n"
          ]
        }
      ]
    },
    {
      "cell_type": "markdown",
      "source": [
        "# **Qual é a eficácia dos goleiros em socar a bola para longe da área?**"
      ],
      "metadata": {
        "id": "wyZxP_WD6eWK"
      }
    },
    {
      "cell_type": "code",
      "source": [
        "premierleague['total_socadas_longe'] = premierleague['total_high_claim']\n",
        "\n",
        "premierleague['total_socadas_longe_agarradas'] = premierleague['total_high_claim'] + premierleague['punches']\n",
        "\n",
        "premierleague['eficacia_socar_longe'] = (premierleague['total_socadas_longe'] / premierleague['total_socadas_longe_agarradas']) * 100\n",
        "\n",
        "media_eficacia_socar_longe = premierleague['eficacia_socar_longe'].mean()\n",
        "\n",
        "print(\"Eficácia média dos goleiros em socar a bola para longe da área: {:.2f}%\".format(media_eficacia_socar_longe))"
      ],
      "metadata": {
        "colab": {
          "base_uri": "https://localhost:8080/"
        },
        "id": "YAaD1tdjSwgr",
        "outputId": "24e9f9a8-37c5-49a0-b1d2-447d38b1d534"
      },
      "execution_count": 17,
      "outputs": [
        {
          "output_type": "stream",
          "name": "stdout",
          "text": [
            "Eficácia média dos goleiros em socar a bola para longe da área: 70.14%\n"
          ]
        }
      ]
    }
  ]
}